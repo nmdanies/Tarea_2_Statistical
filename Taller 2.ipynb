{
 "cells": [
  {
   "cell_type": "markdown",
   "id": "5a9e214b",
   "metadata": {},
   "source": [
    "# Taller Clase 8\n",
    "### Nicolás Danies y Daniel Bahamon"
   ]
  },
  {
   "cell_type": "markdown",
   "id": "4c2d353f",
   "metadata": {},
   "source": [
    "En primer lugar cargamos nuestros datos y definimos nuestra porción de train y test"
   ]
  },
  {
   "cell_type": "code",
   "execution_count": 1,
   "id": "b50166a4",
   "metadata": {},
   "outputs": [
    {
     "data": {
      "text/html": [
       "<ol class=list-inline>\n",
       "\t<li>506</li>\n",
       "\t<li>14</li>\n",
       "</ol>\n"
      ],
      "text/latex": [
       "\\begin{enumerate*}\n",
       "\\item 506\n",
       "\\item 14\n",
       "\\end{enumerate*}\n"
      ],
      "text/markdown": [
       "1. 506\n",
       "2. 14\n",
       "\n",
       "\n"
      ],
      "text/plain": [
       "[1] 506  14"
      ]
     },
     "metadata": {},
     "output_type": "display_data"
    },
    {
     "data": {
      "text/html": [
       "<table>\n",
       "<thead><tr><th scope=col>crim</th><th scope=col>zn</th><th scope=col>indus</th><th scope=col>chas</th><th scope=col>nox</th><th scope=col>rm</th><th scope=col>age</th><th scope=col>dis</th><th scope=col>rad</th><th scope=col>tax</th><th scope=col>ptratio</th><th scope=col>black</th><th scope=col>lstat</th><th scope=col>medv</th></tr></thead>\n",
       "<tbody>\n",
       "\t<tr><td>0.00632</td><td>18     </td><td>2.31   </td><td>0      </td><td>0.538  </td><td>6.575  </td><td>65.2   </td><td>4.0900 </td><td>1      </td><td>296    </td><td>15.3   </td><td>396.90 </td><td>4.98   </td><td>24.0   </td></tr>\n",
       "\t<tr><td>0.02731</td><td> 0     </td><td>7.07   </td><td>0      </td><td>0.469  </td><td>6.421  </td><td>78.9   </td><td>4.9671 </td><td>2      </td><td>242    </td><td>17.8   </td><td>396.90 </td><td>9.14   </td><td>21.6   </td></tr>\n",
       "\t<tr><td>0.02729</td><td> 0     </td><td>7.07   </td><td>0      </td><td>0.469  </td><td>7.185  </td><td>61.1   </td><td>4.9671 </td><td>2      </td><td>242    </td><td>17.8   </td><td>392.83 </td><td>4.03   </td><td>34.7   </td></tr>\n",
       "\t<tr><td>0.03237</td><td> 0     </td><td>2.18   </td><td>0      </td><td>0.458  </td><td>6.998  </td><td>45.8   </td><td>6.0622 </td><td>3      </td><td>222    </td><td>18.7   </td><td>394.63 </td><td>2.94   </td><td>33.4   </td></tr>\n",
       "\t<tr><td>0.06905</td><td> 0     </td><td>2.18   </td><td>0      </td><td>0.458  </td><td>7.147  </td><td>54.2   </td><td>6.0622 </td><td>3      </td><td>222    </td><td>18.7   </td><td>396.90 </td><td>5.33   </td><td>36.2   </td></tr>\n",
       "\t<tr><td>0.02985</td><td> 0     </td><td>2.18   </td><td>0      </td><td>0.458  </td><td>6.430  </td><td>58.7   </td><td>6.0622 </td><td>3      </td><td>222    </td><td>18.7   </td><td>394.12 </td><td>5.21   </td><td>28.7   </td></tr>\n",
       "</tbody>\n",
       "</table>\n"
      ],
      "text/latex": [
       "\\begin{tabular}{r|llllllllllllll}\n",
       " crim & zn & indus & chas & nox & rm & age & dis & rad & tax & ptratio & black & lstat & medv\\\\\n",
       "\\hline\n",
       "\t 0.00632 & 18      & 2.31    & 0       & 0.538   & 6.575   & 65.2    & 4.0900  & 1       & 296     & 15.3    & 396.90  & 4.98    & 24.0   \\\\\n",
       "\t 0.02731 &  0      & 7.07    & 0       & 0.469   & 6.421   & 78.9    & 4.9671  & 2       & 242     & 17.8    & 396.90  & 9.14    & 21.6   \\\\\n",
       "\t 0.02729 &  0      & 7.07    & 0       & 0.469   & 7.185   & 61.1    & 4.9671  & 2       & 242     & 17.8    & 392.83  & 4.03    & 34.7   \\\\\n",
       "\t 0.03237 &  0      & 2.18    & 0       & 0.458   & 6.998   & 45.8    & 6.0622  & 3       & 222     & 18.7    & 394.63  & 2.94    & 33.4   \\\\\n",
       "\t 0.06905 &  0      & 2.18    & 0       & 0.458   & 7.147   & 54.2    & 6.0622  & 3       & 222     & 18.7    & 396.90  & 5.33    & 36.2   \\\\\n",
       "\t 0.02985 &  0      & 2.18    & 0       & 0.458   & 6.430   & 58.7    & 6.0622  & 3       & 222     & 18.7    & 394.12  & 5.21    & 28.7   \\\\\n",
       "\\end{tabular}\n"
      ],
      "text/markdown": [
       "\n",
       "| crim | zn | indus | chas | nox | rm | age | dis | rad | tax | ptratio | black | lstat | medv |\n",
       "|---|---|---|---|---|---|---|---|---|---|---|---|---|---|\n",
       "| 0.00632 | 18      | 2.31    | 0       | 0.538   | 6.575   | 65.2    | 4.0900  | 1       | 296     | 15.3    | 396.90  | 4.98    | 24.0    |\n",
       "| 0.02731 |  0      | 7.07    | 0       | 0.469   | 6.421   | 78.9    | 4.9671  | 2       | 242     | 17.8    | 396.90  | 9.14    | 21.6    |\n",
       "| 0.02729 |  0      | 7.07    | 0       | 0.469   | 7.185   | 61.1    | 4.9671  | 2       | 242     | 17.8    | 392.83  | 4.03    | 34.7    |\n",
       "| 0.03237 |  0      | 2.18    | 0       | 0.458   | 6.998   | 45.8    | 6.0622  | 3       | 222     | 18.7    | 394.63  | 2.94    | 33.4    |\n",
       "| 0.06905 |  0      | 2.18    | 0       | 0.458   | 7.147   | 54.2    | 6.0622  | 3       | 222     | 18.7    | 396.90  | 5.33    | 36.2    |\n",
       "| 0.02985 |  0      | 2.18    | 0       | 0.458   | 6.430   | 58.7    | 6.0622  | 3       | 222     | 18.7    | 394.12  | 5.21    | 28.7    |\n",
       "\n"
      ],
      "text/plain": [
       "  crim    zn indus chas nox   rm    age  dis    rad tax ptratio black  lstat\n",
       "1 0.00632 18 2.31  0    0.538 6.575 65.2 4.0900 1   296 15.3    396.90 4.98 \n",
       "2 0.02731  0 7.07  0    0.469 6.421 78.9 4.9671 2   242 17.8    396.90 9.14 \n",
       "3 0.02729  0 7.07  0    0.469 7.185 61.1 4.9671 2   242 17.8    392.83 4.03 \n",
       "4 0.03237  0 2.18  0    0.458 6.998 45.8 6.0622 3   222 18.7    394.63 2.94 \n",
       "5 0.06905  0 2.18  0    0.458 7.147 54.2 6.0622 3   222 18.7    396.90 5.33 \n",
       "6 0.02985  0 2.18  0    0.458 6.430 58.7 6.0622 3   222 18.7    394.12 5.21 \n",
       "  medv\n",
       "1 24.0\n",
       "2 21.6\n",
       "3 34.7\n",
       "4 33.4\n",
       "5 36.2\n",
       "6 28.7"
      ]
     },
     "metadata": {},
     "output_type": "display_data"
    }
   ],
   "source": [
    "library(MASS)\n",
    "\n",
    "data=Boston\n",
    "dim(data)\n",
    "head(data)\n",
    "#?Boston\n",
    "\n",
    "train=data[1:400,]\n",
    "test=data[401:506,]"
   ]
  },
  {
   "cell_type": "markdown",
   "id": "e2204a18",
   "metadata": {},
   "source": [
    "A continuación definimos nuestro mse a partir del modelo original con una regresión simple"
   ]
  },
  {
   "cell_type": "code",
   "execution_count": 3,
   "id": "d9c3ff40",
   "metadata": {},
   "outputs": [
    {
     "data": {
      "text/html": [
       "37.8937785996014"
      ],
      "text/latex": [
       "37.8937785996014"
      ],
      "text/markdown": [
       "37.8937785996014"
      ],
      "text/plain": [
       "[1] 37.89378"
      ]
     },
     "metadata": {},
     "output_type": "display_data"
    }
   ],
   "source": [
    "l=lm(medv~.,data=train)\n",
    "pred=predict(l,test)\n",
    "mseOrig=mean((test$medv-pred)^2)\n",
    "mseOrig"
   ]
  },
  {
   "cell_type": "markdown",
   "id": "ffec9205",
   "metadata": {},
   "source": [
    "Siguiendo, pasamos a ralizar selección exhaustiva"
   ]
  },
  {
   "cell_type": "code",
   "execution_count": 9,
   "id": "433cf551",
   "metadata": {},
   "outputs": [
    {
     "data": {
      "image/png": "[encoded data removed]",
      "text/plain": [
       "plot without title"
      ]
     },
     "metadata": {},
     "output_type": "display_data"
    }
   ],
   "source": [
    "#install.packages(\"leaps\")\n",
    "library(\"leaps\")\n",
    "subs=regsubsets(medv~.,train)\n",
    "sum_subs=summary(subs)\n",
    "plot(sum_subs$cp)"
   ]
  },
  {
   "cell_type": "code",
   "execution_count": 12,
   "id": "7f7e000a",
   "metadata": {},
   "outputs": [
    {
     "name": "stdout",
     "output_type": "stream",
     "text": [
      "[1] \"minimo\"\n"
     ]
    },
    {
     "data": {
      "text/html": [
       "8"
      ],
      "text/latex": [
       "8"
      ],
      "text/markdown": [
       "8"
      ],
      "text/plain": [
       "[1] 8"
      ]
     },
     "metadata": {},
     "output_type": "display_data"
    },
    {
     "data": {
      "text/plain": [
       "Subset selection object\n",
       "Call: regsubsets.formula(medv ~ ., train)\n",
       "13 Variables  (and intercept)\n",
       "        Forced in Forced out\n",
       "crim        FALSE      FALSE\n",
       "zn          FALSE      FALSE\n",
       "indus       FALSE      FALSE\n",
       "chas        FALSE      FALSE\n",
       "nox         FALSE      FALSE\n",
       "rm          FALSE      FALSE\n",
       "age         FALSE      FALSE\n",
       "dis         FALSE      FALSE\n",
       "rad         FALSE      FALSE\n",
       "tax         FALSE      FALSE\n",
       "ptratio     FALSE      FALSE\n",
       "black       FALSE      FALSE\n",
       "lstat       FALSE      FALSE\n",
       "1 subsets of each size up to 8\n",
       "Selection Algorithm: exhaustive\n",
       "         crim zn  indus chas nox rm  age dis rad tax ptratio black lstat\n",
       "1  ( 1 ) \" \"  \" \" \" \"   \" \"  \" \" \"*\" \" \" \" \" \" \" \" \" \" \"     \" \"   \" \"  \n",
       "2  ( 1 ) \" \"  \" \" \" \"   \" \"  \" \" \"*\" \" \" \" \" \" \" \" \" \" \"     \" \"   \"*\"  \n",
       "3  ( 1 ) \" \"  \" \" \" \"   \" \"  \" \" \"*\" \" \" \" \" \" \" \" \" \"*\"     \" \"   \"*\"  \n",
       "4  ( 1 ) \" \"  \" \" \" \"   \" \"  \" \" \"*\" \" \" \"*\" \" \" \" \" \"*\"     \" \"   \"*\"  \n",
       "5  ( 1 ) \" \"  \" \" \" \"   \" \"  \"*\" \"*\" \" \" \"*\" \" \" \" \" \"*\"     \" \"   \"*\"  \n",
       "6  ( 1 ) \" \"  \" \" \" \"   \" \"  \"*\" \"*\" \" \" \"*\" \"*\" \" \" \"*\"     \" \"   \"*\"  \n",
       "7  ( 1 ) \"*\"  \" \" \" \"   \" \"  \"*\" \"*\" \" \" \"*\" \"*\" \" \" \"*\"     \" \"   \"*\"  \n",
       "8  ( 1 ) \"*\"  \" \" \" \"   \" \"  \"*\" \"*\" \" \" \"*\" \"*\" \"*\" \"*\"     \" \"   \"*\"  "
      ]
     },
     "metadata": {},
     "output_type": "display_data"
    },
    {
     "data": {
      "text/plain": [
       "\n",
       "Call:\n",
       "lm(formula = medv ~ crim + nox + rm + dis + rad + tax + ptratio + \n",
       "    lstat, data = train)\n",
       "\n",
       "Residuals:\n",
       "     Min       1Q   Median       3Q      Max \n",
       "-19.7755  -2.7036  -0.6874   1.9494  25.2424 \n",
       "\n",
       "Coefficients:\n",
       "              Estimate Std. Error t value Pr(>|t|)    \n",
       "(Intercept)  28.229446   5.630924   5.013 8.13e-07 ***\n",
       "crim         -0.194477   0.054195  -3.588 0.000375 ***\n",
       "nox         -14.282869   4.052880  -3.524 0.000475 ***\n",
       "rm            5.126184   0.465035  11.023  < 2e-16 ***\n",
       "dis          -1.061928   0.174839  -6.074 2.96e-09 ***\n",
       "rad           0.477006   0.084049   5.675 2.70e-08 ***\n",
       "tax          -0.012205   0.004175  -2.923 0.003665 ** \n",
       "ptratio      -0.951427   0.130367  -7.298 1.64e-12 ***\n",
       "lstat        -0.512075   0.055616  -9.207  < 2e-16 ***\n",
       "---\n",
       "Signif. codes:  0 '***' 0.001 '**' 0.01 '*' 0.05 '.' 0.1 ' ' 1\n",
       "\n",
       "Residual standard error: 4.865 on 391 degrees of freedom\n",
       "Multiple R-squared:  0.7239,\tAdjusted R-squared:  0.7183 \n",
       "F-statistic: 128.1 on 8 and 391 DF,  p-value: < 2.2e-16\n"
      ]
     },
     "metadata": {},
     "output_type": "display_data"
    },
    {
     "data": {
      "text/html": [
       "39.9999800900748"
      ],
      "text/latex": [
       "39.9999800900748"
      ],
      "text/markdown": [
       "39.9999800900748"
      ],
      "text/plain": [
       "[1] 39.99998"
      ]
     },
     "metadata": {},
     "output_type": "display_data"
    }
   ],
   "source": [
    "print(\"minimo\")\n",
    "which.min(sum_subs$cp)\n",
    "sum_subs\n",
    "\n",
    "#Tomamos aquellos valores que tengan el asterísco\n",
    "lm1=lm(medv~crim+nox+rm+dis+rad+tax+ptratio+lstat,data=train)\n",
    "summary(lm1)\n",
    "pred=predict(lm1,test)\n",
    "mseExhaustivo=mean((test$medv-pred)^2)\n",
    "mseExhaustivo"
   ]
  },
  {
   "cell_type": "markdown",
   "id": "7fd08309",
   "metadata": {},
   "source": [
    "Se continúa con la selección forward"
   ]
  },
  {
   "cell_type": "code",
   "execution_count": 13,
   "id": "d6f711d0",
   "metadata": {},
   "outputs": [
    {
     "data": {
      "text/html": [
       "8"
      ],
      "text/latex": [
       "8"
      ],
      "text/markdown": [
       "8"
      ],
      "text/plain": [
       "[1] 8"
      ]
     },
     "metadata": {},
     "output_type": "display_data"
    },
    {
     "data": {
      "text/plain": [
       "Subset selection object\n",
       "Call: regsubsets.formula(medv ~ ., train, method = \"forward\")\n",
       "13 Variables  (and intercept)\n",
       "        Forced in Forced out\n",
       "crim        FALSE      FALSE\n",
       "zn          FALSE      FALSE\n",
       "indus       FALSE      FALSE\n",
       "chas        FALSE      FALSE\n",
       "nox         FALSE      FALSE\n",
       "rm          FALSE      FALSE\n",
       "age         FALSE      FALSE\n",
       "dis         FALSE      FALSE\n",
       "rad         FALSE      FALSE\n",
       "tax         FALSE      FALSE\n",
       "ptratio     FALSE      FALSE\n",
       "black       FALSE      FALSE\n",
       "lstat       FALSE      FALSE\n",
       "1 subsets of each size up to 8\n",
       "Selection Algorithm: forward\n",
       "         crim zn  indus chas nox rm  age dis rad tax ptratio black lstat\n",
       "1  ( 1 ) \" \"  \" \" \" \"   \" \"  \" \" \"*\" \" \" \" \" \" \" \" \" \" \"     \" \"   \" \"  \n",
       "2  ( 1 ) \" \"  \" \" \" \"   \" \"  \" \" \"*\" \" \" \" \" \" \" \" \" \" \"     \" \"   \"*\"  \n",
       "3  ( 1 ) \" \"  \" \" \" \"   \" \"  \" \" \"*\" \" \" \" \" \" \" \" \" \"*\"     \" \"   \"*\"  \n",
       "4  ( 1 ) \" \"  \" \" \" \"   \" \"  \" \" \"*\" \" \" \"*\" \" \" \" \" \"*\"     \" \"   \"*\"  \n",
       "5  ( 1 ) \" \"  \" \" \" \"   \" \"  \"*\" \"*\" \" \" \"*\" \" \" \" \" \"*\"     \" \"   \"*\"  \n",
       "6  ( 1 ) \" \"  \" \" \" \"   \" \"  \"*\" \"*\" \" \" \"*\" \"*\" \" \" \"*\"     \" \"   \"*\"  \n",
       "7  ( 1 ) \"*\"  \" \" \" \"   \" \"  \"*\" \"*\" \" \" \"*\" \"*\" \" \" \"*\"     \" \"   \"*\"  \n",
       "8  ( 1 ) \"*\"  \" \" \" \"   \" \"  \"*\" \"*\" \" \" \"*\" \"*\" \"*\" \"*\"     \" \"   \"*\"  "
      ]
     },
     "metadata": {},
     "output_type": "display_data"
    },
    {
     "data": {
      "image/png": "[encoded data removed]",
      "text/plain": [
       "plot without title"
      ]
     },
     "metadata": {},
     "output_type": "display_data"
    }
   ],
   "source": [
    "reg_subset=regsubsets(medv~.,train,method=\"forward\")\n",
    "sum_subs2=summary(reg_subset)\n",
    "plot(sum_subs2$cp)\n",
    "which.min(sum_subs2$cp)\n",
    "sum_subs2"
   ]
  },
  {
   "cell_type": "markdown",
   "id": "265372a9",
   "metadata": {},
   "source": [
    "Tomamos aquellos valores que tienen asteríscos"
   ]
  },
  {
   "cell_type": "code",
   "execution_count": 16,
   "id": "c4eb8136",
   "metadata": {},
   "outputs": [
    {
     "data": {
      "text/plain": [
       "\n",
       "Call:\n",
       "lm(formula = medv ~ crim + nox + rm + dis + rad + tax + ptratio + \n",
       "    lstat, data = train)\n",
       "\n",
       "Residuals:\n",
       "     Min       1Q   Median       3Q      Max \n",
       "-19.7755  -2.7036  -0.6874   1.9494  25.2424 \n",
       "\n",
       "Coefficients:\n",
       "              Estimate Std. Error t value Pr(>|t|)    \n",
       "(Intercept)  28.229446   5.630924   5.013 8.13e-07 ***\n",
       "crim         -0.194477   0.054195  -3.588 0.000375 ***\n",
       "nox         -14.282869   4.052880  -3.524 0.000475 ***\n",
       "rm            5.126184   0.465035  11.023  < 2e-16 ***\n",
       "dis          -1.061928   0.174839  -6.074 2.96e-09 ***\n",
       "rad           0.477006   0.084049   5.675 2.70e-08 ***\n",
       "tax          -0.012205   0.004175  -2.923 0.003665 ** \n",
       "ptratio      -0.951427   0.130367  -7.298 1.64e-12 ***\n",
       "lstat        -0.512075   0.055616  -9.207  < 2e-16 ***\n",
       "---\n",
       "Signif. codes:  0 '***' 0.001 '**' 0.01 '*' 0.05 '.' 0.1 ' ' 1\n",
       "\n",
       "Residual standard error: 4.865 on 391 degrees of freedom\n",
       "Multiple R-squared:  0.7239,\tAdjusted R-squared:  0.7183 \n",
       "F-statistic: 128.1 on 8 and 391 DF,  p-value: < 2.2e-16\n"
      ]
     },
     "metadata": {},
     "output_type": "display_data"
    },
    {
     "data": {
      "text/html": [
       "39.9999800900748"
      ],
      "text/latex": [
       "39.9999800900748"
      ],
      "text/markdown": [
       "39.9999800900748"
      ],
      "text/plain": [
       "[1] 39.99998"
      ]
     },
     "metadata": {},
     "output_type": "display_data"
    }
   ],
   "source": [
    "lm2=lm(medv~crim+nox+rm+dis+rad+tax+ptratio+lstat,data=train)\n",
    "summary(lm2)\n",
    "pred=predict(lm2,test)\n",
    "mseForward=mean((test$medv-pred)^2)\n",
    "mseForward"
   ]
  },
  {
   "cell_type": "markdown",
   "id": "9e01d294",
   "metadata": {},
   "source": []
  },
  {
   "cell_type": "code",
   "execution_count": 24,
   "id": "f9d80594",
   "metadata": {},
   "outputs": [
    {
     "name": "stdout",
     "output_type": "stream",
     "text": [
      "Data: \tX dimension: 400 13 \n",
      "\tY dimension: 400 1\n",
      "Fit method: svdpc\n",
      "Number of components considered: 13\n",
      "\n",
      "VALIDATION: RMSEP\n",
      "Cross-validated using 10 random segments.\n",
      "       (Intercept)  1 comps  2 comps  3 comps  4 comps  5 comps  6 comps\n",
      "CV           9.178    8.066    7.752    5.798    5.676    5.492    5.244\n",
      "adjCV        9.178    8.062    7.740    5.786    5.664    5.477    5.230\n",
      "       7 comps  8 comps  9 comps  10 comps  11 comps  12 comps  13 comps\n",
      "CV       5.250    5.265    5.295     5.347     5.424     5.261     5.051\n",
      "adjCV    5.237    5.251    5.279     5.330     5.399     5.238     5.033\n",
      "\n",
      "TRAINING: % variance explained\n",
      "      1 comps  2 comps  3 comps  4 comps  5 comps  6 comps  7 comps  8 comps\n",
      "X       42.01    54.02    64.73    72.82    79.58    85.08    89.02    92.17\n",
      "medv    23.56    32.05    61.79    64.67    66.80    69.67    70.14    70.14\n",
      "      9 comps  10 comps  11 comps  12 comps  13 comps\n",
      "X       94.84     96.48     97.98     99.23    100.00\n",
      "medv    70.15     70.54     70.95     71.88     73.39\n"
     ]
    },
    {
     "data": {
      "text/html": [
       "27.4267371779701"
      ],
      "text/latex": [
       "27.4267371779701"
      ],
      "text/markdown": [
       "27.4267371779701"
      ],
      "text/plain": [
       "[1] 27.42674"
      ]
     },
     "metadata": {},
     "output_type": "display_data"
    }
   ],
   "source": [
    "library(pls)\n",
    "\n",
    "lmPCR=pcr(medv~.,data=train,scale=T,validation=\"CV\")\n",
    "summary(lmPCR)\n",
    "predPCR=predict(lmPCR,test)\n",
    "msePCR=mean((test$medv-predPCR)^2)\n",
    "msePCR"
   ]
  },
  {
   "cell_type": "markdown",
   "id": "46ef3426",
   "metadata": {},
   "source": [
    "### Ahora seguimos con el PLSR"
   ]
  },
  {
   "cell_type": "code",
   "execution_count": 23,
   "id": "d0a0dbba",
   "metadata": {},
   "outputs": [
    {
     "name": "stdout",
     "output_type": "stream",
     "text": [
      "Data: \tX dimension: 400 13 \n",
      "\tY dimension: 400 1\n",
      "Fit method: kernelpls\n",
      "Number of components considered: 13\n",
      "\n",
      "VALIDATION: RMSEP\n",
      "Cross-validated using 10 random segments.\n",
      "       (Intercept)  1 comps  2 comps  3 comps  4 comps  5 comps  6 comps\n",
      "CV           9.178    6.807    5.182    5.097    5.038    4.990    4.965\n",
      "adjCV        9.178    6.800    5.173    5.084    5.026    4.975    4.951\n",
      "       7 comps  8 comps  9 comps  10 comps  11 comps  12 comps  13 comps\n",
      "CV       4.938    4.928    4.927     4.931     4.930     4.930     4.930\n",
      "adjCV    4.926    4.917    4.916     4.920     4.919     4.919     4.919\n",
      "\n",
      "TRAINING: % variance explained\n",
      "      1 comps  2 comps  3 comps  4 comps  5 comps  6 comps  7 comps  8 comps\n",
      "X       38.64    52.64    59.84    67.12    72.56    78.64    82.89    86.75\n",
      "medv    46.32    69.90    71.66    72.49    73.15    73.29    73.35    73.38\n",
      "      9 comps  10 comps  11 comps  12 comps  13 comps\n",
      "X       91.20     92.75     95.36     97.46    100.00\n",
      "medv    73.38     73.38     73.39     73.39     73.39\n"
     ]
    },
    {
     "data": {
      "text/html": [
       "34.2890315301497"
      ],
      "text/latex": [
       "34.2890315301497"
      ],
      "text/markdown": [
       "34.2890315301497"
      ],
      "text/plain": [
       "[1] 34.28903"
      ]
     },
     "metadata": {},
     "output_type": "display_data"
    }
   ],
   "source": [
    "lmPLSR=plsr(medv~.,data=train,scale=T,validation=\"CV\")\n",
    "summary(lmPLSR)\n",
    "predPLSR=predict(lmPLSR,test)\n",
    "msePLSR=mean((test$medv-predPLSR)^2)\n",
    "msePLSR"
   ]
  },
  {
   "cell_type": "markdown",
   "id": "4a7f614d",
   "metadata": {},
   "source": [
    "### Ahora seguimos con Ridge"
   ]
  },
  {
   "cell_type": "code",
   "execution_count": 28,
   "id": "dfe36a91",
   "metadata": {},
   "outputs": [
    {
     "data": {
      "text/html": [
       "0.689229279760431"
      ],
      "text/latex": [
       "0.689229279760431"
      ],
      "text/markdown": [
       "0.689229279760431"
      ],
      "text/plain": [
       "[1] 0.6892293"
      ]
     },
     "metadata": {},
     "output_type": "display_data"
    },
    {
     "data": {
      "image/png": "[encoded data removed]",
      "text/plain": [
       "plot without title"
      ]
     },
     "metadata": {},
     "output_type": "display_data"
    }
   ],
   "source": [
    "library(glmnet)\n",
    "\n",
    "X=model.matrix(medv~.,train)[,-1]\n",
    "Xtest=model.matrix(medv~.,test)[,-1]\n",
    "\n",
    "y=train$medv\n",
    "ytest=test$medv\n",
    "\n",
    "cvmod=cv.glmnet(X,y,alpha=0)\n",
    "cvmod$lambda.min\n",
    "plot(cvmod)"
   ]
  },
  {
   "cell_type": "code",
   "execution_count": 29,
   "id": "21c808d0",
   "metadata": {},
   "outputs": [
    {
     "data": {
      "image/png": "[encoded data removed]",
      "text/plain": [
       "plot without title"
      ]
     },
     "metadata": {},
     "output_type": "display_data"
    }
   ],
   "source": [
    "#Grafico de betas\n",
    "mod_pen2_plot=glmnet(X,y,alpha=0)\n",
    "plot(mod_pen2_plot,xvar=c(\"lambda\"))\n",
    "#plot(mod_pen2_plot,xvar=c(\"dev\"))"
   ]
  },
  {
   "cell_type": "code",
   "execution_count": 31,
   "id": "6da0e896",
   "metadata": {},
   "outputs": [
    {
     "data": {
      "text/plain": [
       "14 x 1 sparse Matrix of class \"dgCMatrix\"\n",
       "                       s0\n",
       "(Intercept) 21.8678732085\n",
       "crim        -0.1533509018\n",
       "zn           0.0334091760\n",
       "indus       -0.0054674504\n",
       "chas         2.0434278288\n",
       "nox         -9.7516646205\n",
       "rm           4.8349168432\n",
       "age         -0.0006963769\n",
       "dis         -1.0380460304\n",
       "rad          0.3030550196\n",
       "tax         -0.0083880671\n",
       "ptratio     -0.7363454027\n",
       "black        0.0018538005\n",
       "lstat       -0.4846058291"
      ]
     },
     "metadata": {},
     "output_type": "display_data"
    },
    {
     "data": {
      "text/html": [
       "30.2610991231781"
      ],
      "text/latex": [
       "30.2610991231781"
      ],
      "text/markdown": [
       "30.2610991231781"
      ],
      "text/plain": [
       "[1] 30.2611"
      ]
     },
     "metadata": {},
     "output_type": "display_data"
    }
   ],
   "source": [
    "mod_pen2=glmnet(X,y,alpha=0,lambda=cvmod$lambda.min)\n",
    "coef(mod_pen2)\n",
    "\n",
    "predp2=predict(mod_pen2,Xtest)\n",
    "mseRidge=mean((ytest-predp2)^2)\n",
    "mseRidge"
   ]
  },
  {
   "cell_type": "markdown",
   "id": "fe78fc78",
   "metadata": {},
   "source": [
    "### Seguimos con Lasso"
   ]
  },
  {
   "cell_type": "code",
   "execution_count": 32,
   "id": "7e2b75c9",
   "metadata": {},
   "outputs": [
    {
     "data": {
      "image/png": "[encoded data removed]",
      "text/plain": [
       "plot without title"
      ]
     },
     "metadata": {},
     "output_type": "display_data"
    }
   ],
   "source": [
    "mod1=glmnet(X,y,alpha=1)\n",
    "plot(mod1)\n"
   ]
  },
  {
   "cell_type": "code",
   "execution_count": 33,
   "id": "6450e707",
   "metadata": {},
   "outputs": [
    {
     "data": {
      "text/html": [
       "0.0343031035411219"
      ],
      "text/latex": [
       "0.0343031035411219"
      ],
      "text/markdown": [
       "0.0343031035411219"
      ],
      "text/plain": [
       "[1] 0.0343031"
      ]
     },
     "metadata": {},
     "output_type": "display_data"
    },
    {
     "data": {
      "image/png": "[encoded data removed]",
      "text/plain": [
       "plot without title"
      ]
     },
     "metadata": {},
     "output_type": "display_data"
    }
   ],
   "source": [
    "cvmod1=cv.glmnet(X,y,alpha=1)\n",
    "cvmod1$lambda.min\n",
    "plot(cvmod1)"
   ]
  },
  {
   "cell_type": "code",
   "execution_count": 34,
   "id": "d72a61de",
   "metadata": {},
   "outputs": [
    {
     "data": {
      "text/plain": [
       "14 x 1 sparse Matrix of class \"dgCMatrix\"\n",
       "                      s0\n",
       "(Intercept)  25.78535959\n",
       "crim         -0.17671421\n",
       "zn            0.03930053\n",
       "indus         0.01929590\n",
       "chas          1.73650418\n",
       "nox         -12.61498201\n",
       "rm            4.92751156\n",
       "age           .         \n",
       "dis          -1.23507626\n",
       "rad           0.42057367\n",
       "tax          -0.01267867\n",
       "ptratio      -0.77615618\n",
       "black         .         \n",
       "lstat        -0.51211713"
      ]
     },
     "metadata": {},
     "output_type": "display_data"
    },
    {
     "data": {
      "text/html": [
       "35.2787810242296"
      ],
      "text/latex": [
       "35.2787810242296"
      ],
      "text/markdown": [
       "35.2787810242296"
      ],
      "text/plain": [
       "[1] 35.27878"
      ]
     },
     "metadata": {},
     "output_type": "display_data"
    }
   ],
   "source": [
    "mod_pen1=glmnet(X,y,alpha=1,lambda=cvmod1$lambda.min)\n",
    "coef(mod_pen1)\n",
    "\n",
    "predp1=predict(mod_pen1,Xtest)\n",
    "mseLasso=mean((ytest-predp1)^2)\n",
    "mseLasso"
   ]
  },
  {
   "cell_type": "markdown",
   "id": "9b3e8d05",
   "metadata": {},
   "source": [
    "### Finalmente realizamos Elastic Net"
   ]
  },
  {
   "cell_type": "code",
   "execution_count": 50,
   "id": "fdb6f010",
   "metadata": {},
   "outputs": [
    {
     "data": {
      "image/png": "[encoded data removed]",
      "text/plain": [
       "plot without title"
      ]
     },
     "metadata": {},
     "output_type": "display_data"
    }
   ],
   "source": [
    "enet=glmnet(X,y,alpha=0.2)\n",
    "plot(enet,\"dev\",\n",
    "     col=c(rep(1,10),rep(2,10),rep(3,10),rep(4,10),rep(5,10)))"
   ]
  },
  {
   "cell_type": "code",
   "execution_count": 51,
   "id": "823b1b9d",
   "metadata": {},
   "outputs": [
    {
     "data": {
      "text/html": [
       "33.0802515943428"
      ],
      "text/latex": [
       "33.0802515943428"
      ],
      "text/markdown": [
       "33.0802515943428"
      ],
      "text/plain": [
       "[1] 33.08025"
      ]
     },
     "metadata": {},
     "output_type": "display_data"
    }
   ],
   "source": [
    "enet=glmnet(X,y,lambda=exp(1),alpha=0.2)\n",
    "\n",
    "predp2=predict(enet,Xtest)\n",
    "mseElastic=mean((ytest-predp2)^2)\n",
    "mseElastic"
   ]
  },
  {
   "cell_type": "code",
   "execution_count": 36,
   "id": "a23e4596",
   "metadata": {},
   "outputs": [
    {
     "data": {
      "text/plain": [
       "13 x 1 sparse Matrix of class \"dgCMatrix\"\n",
       "                 s0\n",
       "crim    -0.01386444\n",
       "zn       .         \n",
       "indus    .         \n",
       "chas     1.00076487\n",
       "nox      .         \n",
       "rm       4.56227317\n",
       "age      .         \n",
       "dis     -0.09791170\n",
       "rad      .         \n",
       "tax      .         \n",
       "ptratio -0.51948082\n",
       "black    .         \n",
       "lstat   -0.41037435"
      ]
     },
     "metadata": {},
     "output_type": "display_data"
    },
    {
     "data": {
      "text/html": [
       "33.0802515943428"
      ],
      "text/latex": [
       "33.0802515943428"
      ],
      "text/markdown": [
       "33.0802515943428"
      ],
      "text/plain": [
       "[1] 33.08025"
      ]
     },
     "metadata": {},
     "output_type": "display_data"
    }
   ],
   "source": [
    "\n",
    "enet=glmnet(X,y,alpha=0.1)\n",
    "#plot(enet,\"dev\",col=c(rep(1,10),rep(2,10),rep(3,10),rep(4,10),rep(5,10)))\n",
    "enet=glmnet(X,y,lambda=exp(1),alpha=0.2)\n",
    "benet=enet$beta\n",
    "#benet\n",
    "\n",
    "predp2=predict(enet,Xtest)\n",
    "mseElastic=mean((ytest-predp2)^2)\n",
    "#mseElastic"
   ]
  },
  {
   "cell_type": "markdown",
   "id": "e491f25b",
   "metadata": {},
   "source": [
    "# El mejor MSE es de PCR"
   ]
  }
 ],
 "metadata": {
  "kernelspec": {
   "display_name": "R",
   "language": "R",
   "name": "ir"
  },
  "language_info": {
   "codemirror_mode": "r",
   "file_extension": ".r",
   "mimetype": "text/x-r-source",
   "name": "R",
   "pygments_lexer": "r",
   "version": "3.6.1"
  }
 },
 "nbformat": 4,
 "nbformat_minor": 5
}
